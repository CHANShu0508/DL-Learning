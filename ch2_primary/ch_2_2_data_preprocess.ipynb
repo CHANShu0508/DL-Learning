{
 "cells": [
  {
   "cell_type": "markdown",
   "id": "74d06438",
   "metadata": {},
   "source": [
    "# 数据预处理\n",
    "\n",
    "在Python中常用的数据分析工具中，我们通常使用pandas软件包。像庞大的Python生态系统中的许多其他扩展包一样，pandas可以与张量兼容。本节我们将简要介绍使用pandas预处理原始数据，并将原始数据转换为张量格式的步骤。我们将在后面的章节中介绍更多的数据预处理技术。"
   ]
  },
  {
   "cell_type": "markdown",
   "id": "055e52dd",
   "metadata": {},
   "source": [
    "## 读取数据集\n",
    "\n",
    "首先创建一个文件 `house_tiny.csv`，然后我们用程序进行写入"
   ]
  },
  {
   "cell_type": "code",
   "execution_count": 1,
   "id": "3e6eac6d",
   "metadata": {},
   "outputs": [],
   "source": [
    "#!mkdir data && touch data/house_tiny.csv\n",
    "import os\n",
    "\n",
    "os.makedirs(os.path.join('..', 'data'), exist_ok=True)\n",
    "data_file = os.path.join('..', 'data', 'house_tiny.csv')\n",
    "with open(data_file, 'w') as f:\n",
    "    f.write('NumRooms,Alley,Price\\n')\n",
    "    f.write('NA,Pave,127500\\n')\n",
    "    f.write('2,NA,106000\\n')\n",
    "    f.write('4,NA,178100\\n')\n",
    "    f.write('NA,NA,140000\\n')"
   ]
  },
  {
   "cell_type": "code",
   "execution_count": 2,
   "id": "f621c94e",
   "metadata": {},
   "outputs": [
    {
     "name": "stdout",
     "output_type": "stream",
     "text": [
      "   NumRooms Alley   Price\n",
      "0       NaN  Pave  127500\n",
      "1       2.0   NaN  106000\n",
      "2       4.0   NaN  178100\n",
      "3       NaN   NaN  140000\n"
     ]
    }
   ],
   "source": [
    "import pandas as pd\n",
    "\n",
    "data = pd.read_csv(data_file)\n",
    "print(data)"
   ]
  },
  {
   "cell_type": "markdown",
   "id": "dd93705a",
   "metadata": {},
   "source": [
    "## 处理缺失值\n",
    "\n",
    "NaN 值就是缺失的值。在实际情况下有两种处理方法：\n",
    "\n",
    "- 删除他们\n",
    "- 插值法\n",
    "\n",
    "下面就介绍插值法。\n",
    "\n",
    "通过位置索引 iloc，我们将 data 分成 inputs 和 outputs， 其中前者为 data 的前两列，而后者为 data 的最后一列。对于 inputs 中缺少的数值，我们用同一列的**均值**替换“NaN”项"
   ]
  },
  {
   "cell_type": "code",
   "execution_count": 3,
   "id": "04f1fd85",
   "metadata": {},
   "outputs": [
    {
     "name": "stdout",
     "output_type": "stream",
     "text": [
      "   NumRooms Alley\n",
      "0       3.0  Pave\n",
      "1       2.0   NaN\n",
      "2       4.0   NaN\n",
      "3       3.0   NaN\n"
     ]
    }
   ],
   "source": [
    "inputs, outputs = data.iloc[:, 0:2], data.iloc[:, 2]\n",
    "inputs = inputs.fillna(inputs.mean())\n",
    "print(inputs)"
   ]
  },
  {
   "cell_type": "markdown",
   "id": "e46904f0",
   "metadata": {},
   "source": [
    "对于“Alley”这一列，它的值有“Pave”和“NaN”两类，这个时候就可以根据这两类分类创建另外两列：\n",
    "\n",
    "- 第一列是“是否为 pave”：是则赋为 1，反之为 0\n",
    "- 第二列是“是否为 NaN”：是则赋为 1，反之为 0\n",
    "\n",
    "实现的方法就是 `pandas.get_dummies()` 方法："
   ]
  },
  {
   "cell_type": "code",
   "execution_count": 4,
   "id": "aab379db",
   "metadata": {},
   "outputs": [
    {
     "name": "stdout",
     "output_type": "stream",
     "text": [
      "   NumRooms  Alley_Pave  Alley_nan\n",
      "0       3.0           1          0\n",
      "1       2.0           0          1\n",
      "2       4.0           0          1\n",
      "3       3.0           0          1\n"
     ]
    }
   ],
   "source": [
    "inputs = pd.get_dummies(inputs, dummy_na=True)\n",
    "print(inputs)"
   ]
  },
  {
   "cell_type": "markdown",
   "id": "20add4d9",
   "metadata": {},
   "source": [
    "实际上当不止两种类型的情况下也可以使用，但就会生成更多的列了：\n",
    "\n",
    "Ref: https://blog.csdn.net/maymay_/article/details/80198468"
   ]
  },
  {
   "cell_type": "markdown",
   "id": "99c6a5e4",
   "metadata": {},
   "source": [
    "## 转化为张量"
   ]
  },
  {
   "cell_type": "code",
   "execution_count": 5,
   "id": "dbcaf1ba",
   "metadata": {},
   "outputs": [
    {
     "data": {
      "text/plain": [
       "(tensor([[3., 1., 0.],\n",
       "         [2., 0., 1.],\n",
       "         [4., 0., 1.],\n",
       "         [3., 0., 1.]], dtype=torch.float64),\n",
       " tensor([127500, 106000, 178100, 140000]))"
      ]
     },
     "execution_count": 5,
     "metadata": {},
     "output_type": "execute_result"
    }
   ],
   "source": [
    "import torch\n",
    "\n",
    "X, y = torch.tensor(inputs.values), torch.tensor(outputs.values)\n",
    "X, y"
   ]
  },
  {
   "cell_type": "markdown",
   "id": "f77263dc",
   "metadata": {},
   "source": [
    "## 作业\n",
    "\n",
    "### 删除缺失值最多的列"
   ]
  },
  {
   "cell_type": "code",
   "execution_count": 6,
   "id": "c5e4ce0f",
   "metadata": {},
   "outputs": [
    {
     "data": {
      "text/plain": [
       "NumRooms    2\n",
       "Alley       3\n",
       "Price       0\n",
       "dtype: int64"
      ]
     },
     "execution_count": 6,
     "metadata": {},
     "output_type": "execute_result"
    }
   ],
   "source": [
    "data_2 = pd.read_csv(data_file)\n",
    "\n",
    "is_nan = data.isna().sum()\n",
    "is_nan"
   ]
  },
  {
   "cell_type": "code",
   "execution_count": 8,
   "id": "0da03b1a",
   "metadata": {},
   "outputs": [
    {
     "name": "stdout",
     "output_type": "stream",
     "text": [
      "Alley\n"
     ]
    },
    {
     "data": {
      "text/html": [
       "<div>\n",
       "<style scoped>\n",
       "    .dataframe tbody tr th:only-of-type {\n",
       "        vertical-align: middle;\n",
       "    }\n",
       "\n",
       "    .dataframe tbody tr th {\n",
       "        vertical-align: top;\n",
       "    }\n",
       "\n",
       "    .dataframe thead th {\n",
       "        text-align: right;\n",
       "    }\n",
       "</style>\n",
       "<table border=\"1\" class=\"dataframe\">\n",
       "  <thead>\n",
       "    <tr style=\"text-align: right;\">\n",
       "      <th></th>\n",
       "      <th>NumRooms</th>\n",
       "      <th>Price</th>\n",
       "    </tr>\n",
       "  </thead>\n",
       "  <tbody>\n",
       "    <tr>\n",
       "      <th>0</th>\n",
       "      <td>NaN</td>\n",
       "      <td>127500</td>\n",
       "    </tr>\n",
       "    <tr>\n",
       "      <th>1</th>\n",
       "      <td>2.0</td>\n",
       "      <td>106000</td>\n",
       "    </tr>\n",
       "    <tr>\n",
       "      <th>2</th>\n",
       "      <td>4.0</td>\n",
       "      <td>178100</td>\n",
       "    </tr>\n",
       "    <tr>\n",
       "      <th>3</th>\n",
       "      <td>NaN</td>\n",
       "      <td>140000</td>\n",
       "    </tr>\n",
       "  </tbody>\n",
       "</table>\n",
       "</div>"
      ],
      "text/plain": [
       "   NumRooms   Price\n",
       "0       NaN  127500\n",
       "1       2.0  106000\n",
       "2       4.0  178100\n",
       "3       NaN  140000"
      ]
     },
     "execution_count": 8,
     "metadata": {},
     "output_type": "execute_result"
    }
   ],
   "source": [
    "is_nan_dit = is_nan.to_dict()\n",
    "max_index = max(is_nan_dit, key=is_nan_dit.get)\n",
    "\n",
    "print(max_index)\n",
    "data_2.drop([max_index], axis=1)\n",
    "data"
   ]
  },
  {
   "cell_type": "markdown",
   "id": "5dacda3d",
   "metadata": {},
   "source": [
    "Ref:\n",
    "\n",
    "- 删除 Pandas 中的行或列：https://blog.csdn.net/songyunli1111/article/details/79306639\n",
    "\n",
    "- Pandas 清洗数据（统计 NaN）：https://blog.51cto.com/u_15162069/2919997"
   ]
  }
 ],
 "metadata": {
  "kernelspec": {
   "display_name": "dl_env",
   "language": "python",
   "name": "dl_env"
  },
  "language_info": {
   "codemirror_mode": {
    "name": "ipython",
    "version": 3
   },
   "file_extension": ".py",
   "mimetype": "text/x-python",
   "name": "python",
   "nbconvert_exporter": "python",
   "pygments_lexer": "ipython3",
   "version": "3.8.10"
  }
 },
 "nbformat": 4,
 "nbformat_minor": 5
}
