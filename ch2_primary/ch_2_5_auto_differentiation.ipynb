{
 "cells": [
  {
   "cell_type": "markdown",
   "id": "0d68ca5c",
   "metadata": {},
   "source": [
    "# 自动微分\n",
    "\n",
    "对于复杂的模型，手工进行更新是一件很痛苦的事情。\n",
    "\n",
    "深度学习框架通过自动计算导数，即自动微分（automatic differentiation）来加快求导。实际中，根据我们设计的模型，系统会构建一个计算图（computational graph），来跟踪计算是哪些数据通过哪些操作组合起来产生输出。自动微分使系统能够随后反向传播梯度。 这里，反向传播（backpropagate）意味着跟踪整个计算图，填充关于每个参数的偏导数。\n",
    "\n",
    "## 标量函数的梯度\n",
    "\n",
    "例如要对函数 $y = 2 \\mathbf{x}^T \\mathbf{x}$ 的梯度。\n",
    "\n",
    "首先，我们创建变量：向量 $\\mathbf{x}$："
   ]
  },
  {
   "cell_type": "code",
   "execution_count": 1,
   "id": "687a32ea",
   "metadata": {},
   "outputs": [
    {
     "data": {
      "text/plain": [
       "tensor([0., 1., 2., 3.])"
      ]
     },
     "execution_count": 1,
     "metadata": {},
     "output_type": "execute_result"
    }
   ],
   "source": [
    "import torch\n",
    "\n",
    "x = torch.arange(4.0)\n",
    "x"
   ]
  },
  {
   "cell_type": "markdown",
   "id": "d78405a9",
   "metadata": {},
   "source": [
    "在进行实际计算前，我们需要明确一点：我们不可能为每个更新过后的梯度一只分配新的内存空间。而 Pytorch 中设定自动更新向量（并自动积累保存）所需的梯度空间很简单："
   ]
  },
  {
   "cell_type": "code",
   "execution_count": 4,
   "id": "0e86ebd9",
   "metadata": {},
   "outputs": [
    {
     "data": {
      "text/plain": [
       "(tensor([0., 1., 2., 3.], requires_grad=True), None)"
      ]
     },
     "execution_count": 4,
     "metadata": {},
     "output_type": "execute_result"
    }
   ],
   "source": [
    "x.requires_grad_(True) # 上面的加上这句可以简写为：x = torch.arange(4.0, requires_grad=True)\n",
    "x, x.grad"
   ]
  },
  {
   "cell_type": "markdown",
   "id": "f874ea67",
   "metadata": {},
   "source": [
    "可以看到，当前 $\\mathbf{x}$ 的梯度还是 None。现在我们创建函数 $y$："
   ]
  },
  {
   "cell_type": "code",
   "execution_count": 5,
   "id": "c5980b46",
   "metadata": {},
   "outputs": [
    {
     "data": {
      "text/plain": [
       "tensor(28., grad_fn=<MulBackward0>)"
      ]
     },
     "execution_count": 5,
     "metadata": {},
     "output_type": "execute_result"
    }
   ],
   "source": [
    "y = 2 * torch.dot(x, x)\n",
    "y"
   ]
  },
  {
   "cell_type": "markdown",
   "id": "5cff200d",
   "metadata": {},
   "source": [
    "可以看到，$y$ 自动识别并且变成了一个可以计算梯度的函数。而且对于向量 $\\mathbf{x}$ 的值计算出了函数值。下面我们通过反向传播计算梯度："
   ]
  },
  {
   "cell_type": "code",
   "execution_count": 6,
   "id": "a630054a",
   "metadata": {},
   "outputs": [
    {
     "data": {
      "text/plain": [
       "tensor([ 0.,  4.,  8., 12.])"
      ]
     },
     "execution_count": 6,
     "metadata": {},
     "output_type": "execute_result"
    }
   ],
   "source": [
    "y.backward()\n",
    "x.grad"
   ]
  },
  {
   "cell_type": "markdown",
   "id": "c7a43486",
   "metadata": {},
   "source": [
    "通过简单计算，他的结果是正确的。但是可以计算一下，因为计算易知梯度的表达式是 $4 \\mathbf{x}$："
   ]
  },
  {
   "cell_type": "code",
   "execution_count": 7,
   "id": "ef1253c0",
   "metadata": {},
   "outputs": [
    {
     "data": {
      "text/plain": [
       "tensor([True, True, True, True])"
      ]
     },
     "execution_count": 7,
     "metadata": {},
     "output_type": "execute_result"
    }
   ],
   "source": [
    "x.grad == 4 * x"
   ]
  },
  {
   "cell_type": "markdown",
   "id": "895cbeea",
   "metadata": {},
   "source": [
    "再来计算另一个函数 $y = \\sum_{i=0}^{4} x_i$ 的梯度："
   ]
  },
  {
   "cell_type": "code",
   "execution_count": 8,
   "id": "968ef647",
   "metadata": {},
   "outputs": [
    {
     "data": {
      "text/plain": [
       "tensor([1., 1., 1., 1.])"
      ]
     },
     "execution_count": 8,
     "metadata": {},
     "output_type": "execute_result"
    }
   ],
   "source": [
    "x.grad.zero_() # 首先需要清除之前的值，因为 Pytorch 会自动积累梯度\n",
    "y = x.sum()\n",
    "y.backward()\n",
    "x.grad"
   ]
  },
  {
   "cell_type": "markdown",
   "id": "0ff9ff0d",
   "metadata": {},
   "source": [
    "## 非标量函数的反向传播\n",
    "\n",
    "就是最优化里面学过的向量值函数。\n",
    "\n",
    "当y不是标量时，向量y关于向量x的导数的最自然解释是一个矩阵:\n",
    "\n",
    "$$\n",
    "\\left[\\begin{array}{cccc}\n",
    "\\frac{\\partial g_1\\left(x_0\\right)}{\\partial x_1} & \\frac{\\partial g_2\\left(x_0\\right)}{\\partial x_1} & \\ldots & \\frac{\\partial g_{n 1}\\left(x_0\\right)}{\\partial x_1} \\\\\n",
    "\\frac{\\partial g_1\\left(x_0\\right)}{\\partial x_2} & \\frac{\\partial g_2\\left(x_0\\right)}{\\partial x_2} & \\ldots & \\frac{\\partial g_n\\left(x_0\\right)}{\\partial x_2} \\\\\n",
    "\\vdots & \\vdots & & \\vdots \\\\\n",
    "\\frac{\\partial g_1\\left(x_0\\right)}{\\partial x_n} & \\frac{\\partial g_2\\left(x_0\\right)}{\\partial x_n} & \\ldots & \\frac{\\partial g_m\\left(x_0\\right)}{\\partial x_n}\n",
    "\\end{array}\\right]\n",
    "$$\n",
    "\n",
    "对于高阶和高维的y和x，求导的结果可以是一个高阶张量。\n",
    "\n",
    "然而，虽然这些更奇特的对象确实出现在高级机器学习中（包括深度学习中），但当我们调用向量的反向计算时，我们通常会试图计算一批训练样本中每个组成部分的损失函数的导数。 这里，我们的目的不是计算微分矩阵，而是单独计算批量中每个样本的偏导数之和（也就是上面矩阵**每一列的和**的值算出来作为一个向量，然后作为x的梯度）"
   ]
  },
  {
   "cell_type": "code",
   "execution_count": 16,
   "id": "23b526fa",
   "metadata": {},
   "outputs": [
    {
     "data": {
      "text/plain": [
       "(tensor([0., 2., 4., 6.]), tensor([True, True, True, True]))"
      ]
     },
     "execution_count": 16,
     "metadata": {},
     "output_type": "execute_result"
    }
   ],
   "source": [
    "x.grad.zero_()\n",
    "y = x * x\n",
    "# 等价于y.backward(torch.ones(len(x)))\n",
    "y.sum().backward() # 但这个式子更能表达其数学含义（先把 y 的分量加在一起，在作为整体求梯度）\n",
    "x.grad, x.grad == 2 * x"
   ]
  },
  {
   "cell_type": "markdown",
   "id": "205dcbc0",
   "metadata": {},
   "source": [
    "## 分离计算\n",
    "\n",
    "有时，我们希望将某些计算移动到记录的计算图之外。例如，假设 $y$ 是作为 $x$ 的函数计算的，而 $z$ 则是作为 $y$ 和 $x$ 的函数计算的。想象一下，我们想计算 $z$ 关于 $x$ 的梯度，但由于某种原因，我们希望将 $y$ 视为一个常数，并且只考虑到 $x$ 在 $y$ 被计算后发挥的作用。\n",
    "\n",
    "在这里，我们可以分离 $y$ 来返回一个新变量 $u$，该变量与 $y$ 具有相同的值，但丢弃计算图中如何计算 $y$ 的任何信息。换句话说，梯度不会向后流经 $u$ 到 $x$。 因此，下面的反向传播函数计算 $z=ux$ 关于 ${x}$ 的偏导数同时将 $u$ 作为常数处理，而不是 $z=x*x*x$ 关于 $x$ 的偏导数。\n",
    "\n",
    "> 这里的 `*` 表示逐个乘法"
   ]
  },
  {
   "cell_type": "code",
   "execution_count": 15,
   "id": "352b6654",
   "metadata": {},
   "outputs": [
    {
     "data": {
      "text/plain": [
       "tensor([True, True, True, True])"
      ]
     },
     "execution_count": 15,
     "metadata": {},
     "output_type": "execute_result"
    }
   ],
   "source": [
    "x.grad.zero_()\n",
    "y = x * x\n",
    "u = y.detach()\n",
    "z = u * x\n",
    "\n",
    "z.sum().backward()\n",
    "x.grad == u"
   ]
  },
  {
   "cell_type": "markdown",
   "id": "d59d8b82",
   "metadata": {},
   "source": [
    "可以看出来，由于把 u 作为常数进行计算，所以 z 对 x 求梯度及如果就是 u\n",
    "\n",
    "## Python 控制流的梯度计算\n",
    "\n",
    "使用自动微分的一个好处是：即使构建函数的计算图需要通过Python控制流（例如，条件、循环或任意函数调用），我们仍然可以计算得到的变量的梯度。在下面的代码中，while 循环的迭代次数和 if 语句的结果都取决于输入 a 的值："
   ]
  },
  {
   "cell_type": "code",
   "execution_count": 22,
   "id": "a65f34fc",
   "metadata": {},
   "outputs": [],
   "source": [
    "def f(a):\n",
    "    b = a * 2\n",
    "    while b.norm() < 1000:\n",
    "        b *= 2\n",
    "    \n",
    "    if b.sum() > 0:\n",
    "        c = b\n",
    "    else:\n",
    "        c = b * 1000\n",
    "        \n",
    "    return c"
   ]
  },
  {
   "cell_type": "code",
   "execution_count": 23,
   "id": "57a0511c",
   "metadata": {},
   "outputs": [
    {
     "data": {
      "text/plain": [
       "tensor(True)"
      ]
     },
     "execution_count": 23,
     "metadata": {},
     "output_type": "execute_result"
    }
   ],
   "source": [
    "a = torch.randn(size=(), requires_grad=True)\n",
    "d = f(a)\n",
    "d.backward()\n",
    "\n",
    "a.grad == d / a # 这个只对 x 是标量（单个数）的时候生效"
   ]
  },
  {
   "cell_type": "markdown",
   "id": "f6050424",
   "metadata": {},
   "source": [
    "上面的例子中，不管函数 $f(x)$ 内部对输入的向量 $\\mathbf{a}$ 经过如何处理，$\\mathbf{c}$ 最后都会是这样一个形式：$C \\mathbf{a}$ 也就是一个常数乘上 $\\mathbf{x}$。所以对其求梯度再逐元素相除，得到的就是这个常数，也是梯度\n",
    "\n",
    "## 练习\n",
    "\n",
    "### 2"
   ]
  },
  {
   "cell_type": "code",
   "execution_count": 4,
   "id": "0add93cd",
   "metadata": {},
   "outputs": [
    {
     "name": "stdout",
     "output_type": "stream",
     "text": [
      "tensor([0., 2., 4., 6.])\n"
     ]
    },
    {
     "ename": "RuntimeError",
     "evalue": "Trying to backward through the graph a second time (or directly access saved tensors after they have already been freed). Saved intermediate values of the graph are freed when you call .backward() or autograd.grad(). Specify retain_graph=True if you need to backward through the graph a second time or if you need to access saved tensors after calling backward.",
     "output_type": "error",
     "traceback": [
      "\u001b[0;31m---------------------------------------------------------------------------\u001b[0m",
      "\u001b[0;31mRuntimeError\u001b[0m                              Traceback (most recent call last)",
      "Cell \u001b[0;32mIn [4], line 8\u001b[0m\n\u001b[1;32m      6\u001b[0m bb\u001b[38;5;241m.\u001b[39mbackward()\n\u001b[1;32m      7\u001b[0m \u001b[38;5;28mprint\u001b[39m(aa\u001b[38;5;241m.\u001b[39mgrad)\n\u001b[0;32m----> 8\u001b[0m \u001b[43mbb\u001b[49m\u001b[38;5;241;43m.\u001b[39;49m\u001b[43mbackward\u001b[49m\u001b[43m(\u001b[49m\u001b[43m)\u001b[49m\n\u001b[1;32m      9\u001b[0m \u001b[38;5;28mprint\u001b[39m(aa\u001b[38;5;241m.\u001b[39mgrad)\n",
      "File \u001b[0;32m~/py_envs/dl_env/lib/python3.8/site-packages/torch/_tensor.py:396\u001b[0m, in \u001b[0;36mTensor.backward\u001b[0;34m(self, gradient, retain_graph, create_graph, inputs)\u001b[0m\n\u001b[1;32m    387\u001b[0m \u001b[38;5;28;01mif\u001b[39;00m has_torch_function_unary(\u001b[38;5;28mself\u001b[39m):\n\u001b[1;32m    388\u001b[0m     \u001b[38;5;28;01mreturn\u001b[39;00m handle_torch_function(\n\u001b[1;32m    389\u001b[0m         Tensor\u001b[38;5;241m.\u001b[39mbackward,\n\u001b[1;32m    390\u001b[0m         (\u001b[38;5;28mself\u001b[39m,),\n\u001b[0;32m   (...)\u001b[0m\n\u001b[1;32m    394\u001b[0m         create_graph\u001b[38;5;241m=\u001b[39mcreate_graph,\n\u001b[1;32m    395\u001b[0m         inputs\u001b[38;5;241m=\u001b[39minputs)\n\u001b[0;32m--> 396\u001b[0m \u001b[43mtorch\u001b[49m\u001b[38;5;241;43m.\u001b[39;49m\u001b[43mautograd\u001b[49m\u001b[38;5;241;43m.\u001b[39;49m\u001b[43mbackward\u001b[49m\u001b[43m(\u001b[49m\u001b[38;5;28;43mself\u001b[39;49m\u001b[43m,\u001b[49m\u001b[43m \u001b[49m\u001b[43mgradient\u001b[49m\u001b[43m,\u001b[49m\u001b[43m \u001b[49m\u001b[43mretain_graph\u001b[49m\u001b[43m,\u001b[49m\u001b[43m \u001b[49m\u001b[43mcreate_graph\u001b[49m\u001b[43m,\u001b[49m\u001b[43m \u001b[49m\u001b[43minputs\u001b[49m\u001b[38;5;241;43m=\u001b[39;49m\u001b[43minputs\u001b[49m\u001b[43m)\u001b[49m\n",
      "File \u001b[0;32m~/py_envs/dl_env/lib/python3.8/site-packages/torch/autograd/__init__.py:173\u001b[0m, in \u001b[0;36mbackward\u001b[0;34m(tensors, grad_tensors, retain_graph, create_graph, grad_variables, inputs)\u001b[0m\n\u001b[1;32m    168\u001b[0m     retain_graph \u001b[38;5;241m=\u001b[39m create_graph\n\u001b[1;32m    170\u001b[0m \u001b[38;5;66;03m# The reason we repeat same the comment below is that\u001b[39;00m\n\u001b[1;32m    171\u001b[0m \u001b[38;5;66;03m# some Python versions print out the first line of a multi-line function\u001b[39;00m\n\u001b[1;32m    172\u001b[0m \u001b[38;5;66;03m# calls in the traceback and some print out the last line\u001b[39;00m\n\u001b[0;32m--> 173\u001b[0m \u001b[43mVariable\u001b[49m\u001b[38;5;241;43m.\u001b[39;49m\u001b[43m_execution_engine\u001b[49m\u001b[38;5;241;43m.\u001b[39;49m\u001b[43mrun_backward\u001b[49m\u001b[43m(\u001b[49m\u001b[43m  \u001b[49m\u001b[38;5;66;43;03m# Calls into the C++ engine to run the backward pass\u001b[39;49;00m\n\u001b[1;32m    174\u001b[0m \u001b[43m    \u001b[49m\u001b[43mtensors\u001b[49m\u001b[43m,\u001b[49m\u001b[43m \u001b[49m\u001b[43mgrad_tensors_\u001b[49m\u001b[43m,\u001b[49m\u001b[43m \u001b[49m\u001b[43mretain_graph\u001b[49m\u001b[43m,\u001b[49m\u001b[43m \u001b[49m\u001b[43mcreate_graph\u001b[49m\u001b[43m,\u001b[49m\u001b[43m \u001b[49m\u001b[43minputs\u001b[49m\u001b[43m,\u001b[49m\n\u001b[1;32m    175\u001b[0m \u001b[43m    \u001b[49m\u001b[43mallow_unreachable\u001b[49m\u001b[38;5;241;43m=\u001b[39;49m\u001b[38;5;28;43;01mTrue\u001b[39;49;00m\u001b[43m,\u001b[49m\u001b[43m \u001b[49m\u001b[43maccumulate_grad\u001b[49m\u001b[38;5;241;43m=\u001b[39;49m\u001b[38;5;28;43;01mTrue\u001b[39;49;00m\u001b[43m)\u001b[49m\n",
      "\u001b[0;31mRuntimeError\u001b[0m: Trying to backward through the graph a second time (or directly access saved tensors after they have already been freed). Saved intermediate values of the graph are freed when you call .backward() or autograd.grad(). Specify retain_graph=True if you need to backward through the graph a second time or if you need to access saved tensors after calling backward."
     ]
    }
   ],
   "source": [
    "import torch\n",
    "\n",
    "aa = torch.arange(4.0, requires_grad=True)\n",
    "bb = torch.dot(aa, aa)\n",
    "\n",
    "bb.backward()\n",
    "print(aa.grad)\n",
    "bb.backward()\n",
    "print(aa.grad)"
   ]
  },
  {
   "cell_type": "markdown",
   "id": "84154df7",
   "metadata": {},
   "source": [
    "### 3"
   ]
  },
  {
   "cell_type": "code",
   "execution_count": 20,
   "id": "0dc4e99d",
   "metadata": {},
   "outputs": [
    {
     "data": {
      "text/plain": [
       "tensor([[True, True],\n",
       "        [True, True]])"
      ]
     },
     "execution_count": 20,
     "metadata": {},
     "output_type": "execute_result"
    }
   ],
   "source": [
    "def function(a):\n",
    "    b = a * 2\n",
    "    while b.norm() < 1000:\n",
    "        b *= 2\n",
    "    \n",
    "    if b.sum() > 0:\n",
    "        c = b\n",
    "    else:\n",
    "        c = b * 1000\n",
    "        \n",
    "    return c\n",
    "\n",
    "aaa = torch.rand((2, 2), requires_grad=True)\n",
    "bbb = function(aaa)\n",
    "\n",
    "bbb.sum().backward()\n",
    "aaa.grad == bbb / aaa"
   ]
  },
  {
   "cell_type": "markdown",
   "id": "b8afac20",
   "metadata": {},
   "source": [
    "### 5（重要）"
   ]
  },
  {
   "cell_type": "code",
   "execution_count": 37,
   "id": "3bffd38c",
   "metadata": {},
   "outputs": [
    {
     "data": {
      "image/png": "[encoded data removed]",
      "text/plain": [
       "<Figure size 640x480 with 1 Axes>"
      ]
     },
     "metadata": {},
     "output_type": "display_data"
    }
   ],
   "source": [
    "import math\n",
    "import matplotlib.pyplot as plt\n",
    "\n",
    "def func(x):\n",
    "    return torch.sin(x)\n",
    "\n",
    "x_num = torch.arange(-torch.pi, torch.pi, 0.01, requires_grad=True)\n",
    "func_num = func(x_num)\n",
    "func_num.sum().backward()\n",
    "\n",
    "x_show = x_num.detach()\n",
    "\n",
    "plt.plot(x_show, func_num.detach(), label='sin(x)')\n",
    "plt.plot(x_show, x_num.grad.detach(), label='diff to sin(x)')\n",
    "plt.legend()\n",
    "plt.show()"
   ]
  }
 ],
 "metadata": {
  "kernelspec": {
   "display_name": "Python 3 (ipykernel)",
   "language": "python",
   "name": "python3"
  },
  "language_info": {
   "codemirror_mode": {
    "name": "ipython",
    "version": 3
   },
   "file_extension": ".py",
   "mimetype": "text/x-python",
   "name": "python",
   "nbconvert_exporter": "python",
   "pygments_lexer": "ipython3",
   "version": "3.9.15"
  }
 },
 "nbformat": 4,
 "nbformat_minor": 5
}
